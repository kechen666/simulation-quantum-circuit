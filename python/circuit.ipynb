{
 "cells": [
  {
   "cell_type": "code",
   "execution_count": 1,
   "metadata": {},
   "outputs": [],
   "source": [
    "import qiskit\n",
    "from qiskit.circuit import QuantumCircuit"
   ]
  },
  {
   "cell_type": "markdown",
   "metadata": {},
   "source": [
    "为了实现面向对象，我们这里需要创建一个Circuit类型，类型里面需要存储指令，指令执行顺序，最好利用可迭代对象实现。\n",
    "指令也是一个类型，其中需要存储指令的名称与指令作用的比特位置。"
   ]
  },
  {
   "cell_type": "code",
   "execution_count": 5,
   "metadata": {},
   "outputs": [
    {
     "name": "stdout",
     "output_type": "stream",
     "text": [
      "Instruction(name=H, qubits=[0])\n",
      "Instruction(name=CNOT, qubits=[0, 1])\n",
      "Instruction(name=X, qubits=[1])\n"
     ]
    }
   ],
   "source": [
    "from typing import List, Iterator\n",
    "\n",
    "class Instruction:\n",
    "    def __init__(self, name: str, qubits: List[int]):\n",
    "        self.name = name\n",
    "        self.qubits = qubits\n",
    "\n",
    "    def __repr__(self):\n",
    "        return f\"Instruction(name={self.name}, qubits={self.qubits})\"\n",
    "\n",
    "class Circuit:\n",
    "    def __init__(self, regs: int):\n",
    "        self.qubits = regs\n",
    "        self.instructions = []\n",
    "\n",
    "    def add_instruction(self, instruction: Instruction):\n",
    "        self.instructions.append(instruction)\n",
    "\n",
    "    def __iter__(self) -> Iterator[Instruction]:\n",
    "        return iter(self.instructions)\n",
    "\n",
    "    def __repr__(self):\n",
    "        return f\"Circuit(instructions={self.instructions})\"\n",
    "\n",
    "# 示例使用\n",
    "instr1 = Instruction(name=\"H\", qubits=[0])\n",
    "instr2 = Instruction(name=\"CNOT\", qubits=[0, 1])\n",
    "instr3 = Instruction(name=\"X\", qubits=[1])\n",
    "\n",
    "circuit = Circuit(2)\n",
    "circuit.add_instruction(instr1)\n",
    "circuit.add_instruction(instr2)\n",
    "circuit.add_instruction(instr3)\n",
    "\n",
    "# 迭代电路中的指令\n",
    "for instr in circuit:\n",
    "    print(instr)"
   ]
  },
  {
   "cell_type": "markdown",
   "metadata": {},
   "source": [
    "创建Bell电路"
   ]
  },
  {
   "cell_type": "code",
   "execution_count": 10,
   "metadata": {},
   "outputs": [
    {
     "name": "stdout",
     "output_type": "stream",
     "text": [
      "Instruction(name=h, qubits=[0])\n",
      "Instruction(name=cnot, qubits=[0, 1])\n",
      "Instruction(name=measure, qubits=[0, 1])\n"
     ]
    }
   ],
   "source": [
    "H_0 = Instruction(name=\"h\", qubits=[0])\n",
    "CNOT_01 = Instruction(name=\"cnot\", qubits=[0, 1])\n",
    "Measure_01 = Instruction(name=\"measure\", qubits=[0, 1])\n",
    "\n",
    "Bell_circuit = Circuit(2)\n",
    "Bell_circuit.add_instruction(H_0)\n",
    "Bell_circuit.add_instruction(CNOT_01)\n",
    "Bell_circuit.add_instruction(Measure_01)\n",
    "\n",
    "for instr in Bell_circuit:\n",
    "    print(instr)"
   ]
  },
  {
   "cell_type": "markdown",
   "metadata": {},
   "source": [
    "实现电路的模拟。"
   ]
  },
  {
   "cell_type": "code",
   "execution_count": 30,
   "metadata": {},
   "outputs": [
    {
     "name": "stdout",
     "output_type": "stream",
     "text": [
      "Final quantum state: [0.70710678+0.j 0.        +0.j 0.        +0.j 0.        +0.j\n",
      " 0.        +0.j 0.        +0.j 0.70710678+0.j 0.        +0.j]\n"
     ]
    }
   ],
   "source": [
    "import numpy as np\n",
    "\n",
    "class Instruction:\n",
    "    def __init__(self, name: str, qubits: List[int]):\n",
    "        self.name = name\n",
    "        self.qubits = qubits\n",
    "\n",
    "    def __repr__(self):\n",
    "        return f\"Instruction(name={self.name}, qubits={self.qubits})\"\n",
    "\n",
    "class Circuit:\n",
    "    def __init__(self, num_qubits: int):\n",
    "        self.num_qubits = num_qubits\n",
    "        self.instructions = []\n",
    "\n",
    "    def add_instruction(self, instruction: Instruction):\n",
    "        self.instructions.append(instruction)\n",
    "\n",
    "    def simulate(self):\n",
    "        # 初始量子态为 |0...0>\n",
    "        state = np.zeros(2**self.num_qubits, dtype=complex)\n",
    "        state[0] = 1.0  # |0...0>\n",
    "\n",
    "        for instr in self.instructions:\n",
    "            if instr.name == \"H\":\n",
    "                state = self.apply_single_qubit_gate(state, self.hadamard_gate(), instr.qubits[0])\n",
    "            elif instr.name == \"X\":\n",
    "                state = self.apply_single_qubit_gate(state, self.x_gate(), instr.qubits[0])\n",
    "            elif instr.name == \"CNOT\":\n",
    "                state = self.apply_cnot(state, instr.qubits[0], instr.qubits[1])\n",
    "        \n",
    "        return state\n",
    "\n",
    "    def hadamard_gate(self):\n",
    "        return (1 / np.sqrt(2)) * np.array([[1, 1], [1, -1]])\n",
    "\n",
    "    def x_gate(self):\n",
    "        return np.array([[0, 1], [1, 0]])\n",
    "\n",
    "    def apply_single_qubit_gate(self, state, gate, qubit):\n",
    "        full_gate = 1\n",
    "        for i in range(self.num_qubits):\n",
    "            if i == qubit:\n",
    "                full_gate = np.kron(full_gate, gate)\n",
    "            else:\n",
    "                full_gate = np.kron(full_gate, np.eye(2))\n",
    "        return full_gate @ state\n",
    "\n",
    "    def apply_cnot(self, state, control, target):\n",
    "        dim = 2 ** self.num_qubits\n",
    "        CNOT = np.eye(dim, dtype=complex)\n",
    "        for i in range(dim):\n",
    "            binary = format(i, f'0{self.num_qubits}b')\n",
    "            if binary[control] == '1':\n",
    "                flipped = binary[:target] + ('0' if binary[target] == '1' else '1') + binary[target+1:]\n",
    "                j = int(flipped, 2)\n",
    "                CNOT[i, i] = 0\n",
    "                CNOT[i, j] = 1\n",
    "        return CNOT @ state\n",
    "\n",
    "# 示例使用\n",
    "instr1 = Instruction(name=\"H\", qubits=[0])\n",
    "instr2 = Instruction(name=\"CNOT\", qubits=[0, 1])\n",
    "# instr3 = Instruction(name=\"X\", qubits=[1])\n",
    "# instr4 = Instruction(name=\"H\", qubits=[2])\n",
    "# instr5 = Instruction(name=\"CNOT\", qubits=[1, 2])\n",
    "\n",
    "circuit = Circuit(num_qubits=3)\n",
    "circuit.add_instruction(instr1)\n",
    "circuit.add_instruction(instr2)\n",
    "# circuit.add_instruction(instr3)\n",
    "# circuit.add_instruction(instr4)\n",
    "# circuit.add_instruction(instr5)\n",
    "\n",
    "# 模拟电路\n",
    "final_state = circuit.simulate()\n",
    "print(\"Final quantum state:\", final_state)\n"
   ]
  },
  {
   "cell_type": "markdown",
   "metadata": {},
   "source": [
    "CP门和SWAP门。"
   ]
  },
  {
   "cell_type": "code",
   "execution_count": 36,
   "metadata": {},
   "outputs": [
    {
     "name": "stdout",
     "output_type": "stream",
     "text": [
      "Final quantum state: [0.        +0.j         0.5       +0.j         0.5       +0.j\n",
      " 0.        +0.j         0.        +0.j         0.35355339+0.35355339j\n",
      " 0.5       +0.j         0.        +0.j        ]\n"
     ]
    }
   ],
   "source": [
    "import numpy as np\n",
    "\n",
    "class Instruction:\n",
    "    def __init__(self, name: str, qubits: List[int], parameter: float = None):\n",
    "        self.name = name\n",
    "        self.qubits = qubits\n",
    "        self.parameter = parameter  # 用于CP门的相位参数\n",
    "\n",
    "    def __repr__(self):\n",
    "        return f\"Instruction(name={self.name}, qubits={self.qubits}, parameter={self.parameter})\"\n",
    "\n",
    "class Circuit:\n",
    "    def __init__(self, num_qubits: int):\n",
    "        self.num_qubits = num_qubits\n",
    "        self.instructions = []\n",
    "\n",
    "    def add_instruction(self, instruction: Instruction):\n",
    "        self.instructions.append(instruction)\n",
    "\n",
    "    def simulate(self):\n",
    "        # 初始量子态为 |0...0>\n",
    "        state = np.zeros(2**self.num_qubits, dtype=complex)\n",
    "        state[0] = 1.0  # |0...0>\n",
    "\n",
    "        for instr in self.instructions:\n",
    "            if instr.name == \"H\":\n",
    "                state = self.apply_single_qubit_gate(state, self.hadamard_gate(), instr.qubits[0])\n",
    "            elif instr.name == \"X\":\n",
    "                state = self.apply_single_qubit_gate(state, self.x_gate(), instr.qubits[0])\n",
    "            elif instr.name == \"CNOT\":\n",
    "                state = self.apply_cnot(state, instr.qubits[0], instr.qubits[1])\n",
    "            elif instr.name == \"CP\":\n",
    "                state = self.apply_cp(state, instr.qubits[0], instr.qubits[1], instr.parameter)\n",
    "            elif instr.name == \"SWAP\":\n",
    "                state = self.apply_swap(state, instr.qubits[0], instr.qubits[1])\n",
    "        \n",
    "        return state\n",
    "\n",
    "    def hadamard_gate(self):\n",
    "        return (1 / np.sqrt(2)) * np.array([[1, 1], [1, -1]])\n",
    "\n",
    "    def x_gate(self):\n",
    "        return np.array([[0, 1], [1, 0]])\n",
    "\n",
    "    def apply_single_qubit_gate(self, state, gate, qubit):\n",
    "        full_gate = 1\n",
    "        for i in range(self.num_qubits):\n",
    "            if i == qubit:\n",
    "                full_gate = np.kron(full_gate, gate)\n",
    "            else:\n",
    "                full_gate = np.kron(full_gate, np.eye(2))\n",
    "        return full_gate @ state\n",
    "\n",
    "    def apply_cnot(self, state, control, target):\n",
    "        dim = 2 ** self.num_qubits\n",
    "        CNOT = np.eye(dim, dtype=complex)\n",
    "        \n",
    "        for i in range(dim):\n",
    "            binary = format(i, f'0{self.num_qubits}b')\n",
    "            if binary[control] == '1':\n",
    "                flipped = binary[:target] + ('0' if binary[target] == '1' else '1') + binary[target+1:]\n",
    "                j = int(flipped, 2)\n",
    "                CNOT[i, i] = 0\n",
    "                CNOT[i, j] = 1\n",
    "\n",
    "        return CNOT @ state\n",
    "\n",
    "    def apply_cp(self, state, control, target, theta):\n",
    "        dim = 2 ** self.num_qubits\n",
    "        CP = np.eye(dim, dtype=complex)\n",
    "\n",
    "        for i in range(dim):\n",
    "            binary = format(i, f'0{self.num_qubits}b')\n",
    "            if binary[control] == '1' and binary[target] == '1':\n",
    "                CP[i, i] = np.exp(1j * theta)\n",
    "\n",
    "        return CP @ state\n",
    "\n",
    "    def apply_swap(self, state, qubit1, qubit2):\n",
    "        dim = 2 ** self.num_qubits\n",
    "        SWAP = np.eye(dim, dtype=complex)\n",
    "\n",
    "        for i in range(dim):\n",
    "            binary = format(i, f'0{self.num_qubits}b')\n",
    "            swapped = list(binary)\n",
    "            swapped[qubit1], swapped[qubit2] = swapped[qubit2], swapped[qubit1]\n",
    "            j = int(''.join(swapped), 2)\n",
    "            SWAP[i, i] = 0\n",
    "            SWAP[i, j] = 1\n",
    "\n",
    "        return SWAP @ state\n",
    "    \n",
    "    def __iter__(self) -> Iterator[Instruction]:\n",
    "        return iter(self.instructions)\n",
    "\n",
    "    def __repr__(self):\n",
    "        return f\"Circuit(instructions={self.instructions})\"\n",
    "\n",
    "# 示例使用\n",
    "instr1 = Instruction(name=\"H\", qubits=[0])\n",
    "instr2 = Instruction(name=\"CNOT\", qubits=[0, 1])\n",
    "instr3 = Instruction(name=\"X\", qubits=[1])\n",
    "instr4 = Instruction(name=\"H\", qubits=[2])\n",
    "instr5 = Instruction(name=\"CNOT\", qubits=[1, 2])\n",
    "instr6 = Instruction(name=\"CP\", qubits=[0, 2], parameter=np.pi/4)\n",
    "instr7 = Instruction(name=\"SWAP\", qubits=[0, 2])\n",
    "\n",
    "circuit = Circuit(num_qubits=3)\n",
    "circuit.add_instruction(instr1)\n",
    "circuit.add_instruction(instr2)\n",
    "circuit.add_instruction(instr3)\n",
    "circuit.add_instruction(instr4)\n",
    "circuit.add_instruction(instr5)\n",
    "circuit.add_instruction(instr6)\n",
    "circuit.add_instruction(instr7)\n",
    "\n",
    "# 模拟电路\n",
    "final_state = circuit.simulate()\n",
    "print(\"Final quantum state:\", final_state)\n"
   ]
  },
  {
   "cell_type": "code",
   "execution_count": 40,
   "metadata": {},
   "outputs": [
    {
     "name": "stdout",
     "output_type": "stream",
     "text": [
      "Instruction(name=H, qubits=[0], parameter=None)\n",
      "Instruction(name=H, qubits=[1], parameter=None)\n",
      "Instruction(name=H, qubits=[2], parameter=None)\n",
      "Instruction(name=H, qubits=[3], parameter=None)\n",
      "Instruction(name=H, qubits=[4], parameter=None)\n",
      "Instruction(name=H, qubits=[0], parameter=None)\n",
      "Instruction(name=CP, qubits=[0, 1], parameter=3.141592653589793)\n",
      "Instruction(name=CP, qubits=[0, 2], parameter=1.5707963267948966)\n",
      "Instruction(name=CP, qubits=[0, 3], parameter=0.7853981633974483)\n",
      "Instruction(name=CP, qubits=[0, 4], parameter=0.39269908169872414)\n",
      "Instruction(name=H, qubits=[1], parameter=None)\n",
      "Instruction(name=CP, qubits=[1, 2], parameter=3.141592653589793)\n",
      "Instruction(name=CP, qubits=[1, 3], parameter=1.5707963267948966)\n",
      "Instruction(name=CP, qubits=[1, 4], parameter=0.7853981633974483)\n",
      "Instruction(name=H, qubits=[2], parameter=None)\n",
      "Instruction(name=CP, qubits=[2, 3], parameter=3.141592653589793)\n",
      "Instruction(name=CP, qubits=[2, 4], parameter=1.5707963267948966)\n",
      "Instruction(name=H, qubits=[3], parameter=None)\n",
      "Instruction(name=CP, qubits=[3, 4], parameter=3.141592653589793)\n",
      "Instruction(name=H, qubits=[4], parameter=None)\n",
      "Instruction(name=SWAP, qubits=[0, 4], parameter=None)\n",
      "Instruction(name=SWAP, qubits=[1, 3], parameter=None)\n",
      "Final quantum state (QFT):\n",
      "[ 1.00000000e+00+0.00000000e+00j -7.96421998e-34-2.09569441e-34j\n",
      "  3.35857134e-34-3.76653760e-34j  2.95197503e-18+4.41794284e-18j\n",
      "  3.98433633e-34-1.46649266e-34j -1.26622997e-34+2.60500201e-35j\n",
      " -3.36731597e-18-1.39478794e-18j -5.87184342e-19+2.95197503e-18j\n",
      "  0.00000000e+00+1.16637906e-33j  5.73618855e-34+1.67634519e-34j\n",
      " -3.21121766e-34+9.60597516e-35j -4.76190746e-18-7.12669815e-18j\n",
      " -4.45093965e-18+4.45093965e-18j  8.08702153e-34+7.38910256e-34j\n",
      " -8.12941988e-18-3.36731597e-18j -1.22274809e-18+6.14716978e-18j\n",
      "  0.00000000e+00+0.00000000e+00j -1.05824650e-34+6.71415781e-34j\n",
      " -9.60597516e-35-2.08303402e-34j  2.95197503e-18-1.97244665e-18j\n",
      " -1.46649266e-34-3.98433633e-34j  8.47078025e-34-6.64547327e-34j\n",
      " -3.36731597e-18+8.12941988e-18j  1.48405806e-17+2.95197503e-18j\n",
      "  1.90484157e-17-1.16637906e-33j  6.48784521e-35+5.52820508e-34j\n",
      " -2.63835396e-34-3.35857134e-34j  1.06658575e-17-7.12669815e-18j\n",
      " -4.45093965e-18-4.45093965e-18j -3.46855813e-34+1.63336393e-34j\n",
      "  1.39478794e-18-3.36731597e-18j -1.22274809e-18-2.43219718e-19j]\n"
     ]
    }
   ],
   "source": [
    "# 构建5比特QFT电路\n",
    "def build_qft_circuit(num_qubits):\n",
    "    circuit = Circuit(num_qubits)\n",
    "\n",
    "    # 应用Hadamard门\n",
    "    for qubit in range(num_qubits):\n",
    "        circuit.add_instruction(Instruction(name=\"H\", qubits=[qubit]))\n",
    "\n",
    "    # 应用控制相位门\n",
    "    for control in range(num_qubits):\n",
    "        circuit.add_instruction(Instruction(name=\"H\", qubits=[control]))\n",
    "        for target in range(control + 1, num_qubits):\n",
    "            theta = 2 * np.pi / (2 ** (target - control))\n",
    "            circuit.add_instruction(Instruction(name=\"CP\", qubits=[control, target], parameter=theta))\n",
    "\n",
    "    # 反序SWAP门\n",
    "    for qubit in range(num_qubits // 2):\n",
    "        circuit.add_instruction(Instruction(name=\"SWAP\", qubits=[qubit, num_qubits - qubit - 1]))\n",
    "\n",
    "    return circuit\n",
    "\n",
    "# 示例使用\n",
    "num_qubits = 5\n",
    "qft_circuit = build_qft_circuit(num_qubits)\n",
    "\n",
    "for instr in qft_circuit:\n",
    "    print(instr)\n",
    "    \n",
    "final_state = qft_circuit.simulate()\n",
    "\n",
    "# 输出最终量子态\n",
    "print(\"Final quantum state (QFT):\")\n",
    "print(final_state)"
   ]
  },
  {
   "cell_type": "markdown",
   "metadata": {},
   "source": [
    "增加对于量子态的测量操作。"
   ]
  },
  {
   "cell_type": "code",
   "execution_count": 57,
   "metadata": {},
   "outputs": [
    {
     "name": "stdout",
     "output_type": "stream",
     "text": [
      "Final quantum state: [0.70710678+0.j 0.        +0.j 0.        +0.j 0.        +0.j\n",
      " 0.70710678+0.j 0.        +0.j 0.        +0.j 0.        +0.j]\n",
      "Result counts {'000': 510, '100': 514}\n"
     ]
    }
   ],
   "source": [
    "import numpy as np\n",
    "from numpy.random import default_rng\n",
    "\n",
    "class Instruction:\n",
    "    def __init__(self, name: str, qubits: List[int], parameter: float = None):\n",
    "        self.name = name\n",
    "        self.qubits = qubits\n",
    "        self.parameter = parameter  # 用于CP门的相位参数\n",
    "\n",
    "    def __repr__(self):\n",
    "        return f\"Instruction(name={self.name}, qubits={self.qubits}, parameter={self.parameter})\"\n",
    "\n",
    "class Circuit:\n",
    "    def __init__(self, num_qubits: int):\n",
    "        self.num_qubits = num_qubits\n",
    "        self.instructions = []\n",
    "\n",
    "    def add_instruction(self, instruction: Instruction):\n",
    "        self.instructions.append(instruction)\n",
    "\n",
    "    def simulate(self):\n",
    "        # 初始量子态为 |0...0>\n",
    "        state = np.zeros(2**self.num_qubits, dtype=complex)\n",
    "        state[0] = 1.0  # |0...0>\n",
    "\n",
    "        for instr in self.instructions:\n",
    "            if instr.name == \"H\":\n",
    "                state = self.apply_single_qubit_gate(state, self.hadamard_gate(), instr.qubits[0])\n",
    "            elif instr.name == \"X\":\n",
    "                state = self.apply_single_qubit_gate(state, self.x_gate(), instr.qubits[0])\n",
    "            elif instr.name == \"CNOT\":\n",
    "                state = self.apply_cnot(state, instr.qubits[0], instr.qubits[1])\n",
    "            elif instr.name == \"CP\":\n",
    "                state = self.apply_cp(state, instr.qubits[0], instr.qubits[1], instr.parameter)\n",
    "            elif instr.name == \"SWAP\":\n",
    "                state = self.apply_swap(state, instr.qubits[0], instr.qubits[1])\n",
    "        \n",
    "        # # 测量最终量子态\n",
    "        # if measure:\n",
    "        #     measured_state = self.measure_state(state)\n",
    "        #     return measured_state\n",
    "        # else:\n",
    "        return state\n",
    "\n",
    "    def hadamard_gate(self):\n",
    "        return (1 / np.sqrt(2)) * np.array([[1, 1], [1, -1]])\n",
    "\n",
    "    def x_gate(self):\n",
    "        return np.array([[0, 1], [1, 0]])\n",
    "\n",
    "    def apply_single_qubit_gate(self, state, gate, qubit):\n",
    "        full_gate = 1\n",
    "        for i in range(self.num_qubits):\n",
    "            if i == qubit:\n",
    "                full_gate = np.kron(full_gate, gate)\n",
    "            else:\n",
    "                full_gate = np.kron(full_gate, np.eye(2))\n",
    "        return full_gate @ state\n",
    "\n",
    "    def apply_cnot(self, state, control, target):\n",
    "        dim = 2 ** self.num_qubits\n",
    "        CNOT = np.eye(dim, dtype=complex)\n",
    "        \n",
    "        for i in range(dim):\n",
    "            binary = format(i, f'0{self.num_qubits}b')\n",
    "            if binary[control] == '1':\n",
    "                flipped = binary[:target] + ('0' if binary[target] == '1' else '1') + binary[target+1:]\n",
    "                j = int(flipped, 2)\n",
    "                CNOT[i, i] = 0\n",
    "                CNOT[i, j] = 1\n",
    "\n",
    "        return CNOT @ state\n",
    "\n",
    "    def apply_cp(self, state, control, target, theta):\n",
    "        dim = 2 ** self.num_qubits\n",
    "        CP = np.eye(dim, dtype=complex)\n",
    "\n",
    "        for i in range(dim):\n",
    "            binary = format(i, f'0{self.num_qubits}b')\n",
    "            if binary[control] == '1' and binary[target] == '1':\n",
    "                CP[i, i] = np.exp(1j * theta)\n",
    "\n",
    "        return CP @ state\n",
    "\n",
    "    def apply_swap(self, state, qubit1, qubit2):\n",
    "        dim = 2 ** self.num_qubits\n",
    "        SWAP = np.eye(dim, dtype=complex)\n",
    "\n",
    "        for i in range(dim):\n",
    "            binary = format(i, f'0{self.num_qubits}b')\n",
    "            swapped = list(binary)\n",
    "            swapped[qubit1], swapped[qubit2] = swapped[qubit2], swapped[qubit1]\n",
    "            j = int(''.join(swapped), 2)\n",
    "            SWAP[i, i] = 0\n",
    "            SWAP[i, j] = 1\n",
    "\n",
    "        return SWAP @ state\n",
    "    \n",
    "    def __iter__(self) -> Iterator[Instruction]:\n",
    "        return iter(self.instructions)\n",
    "\n",
    "    def __repr__(self):\n",
    "        return f\"Circuit(instructions={self.instructions})\"\n",
    "\n",
    "def measure_state(state, num_qubits):\n",
    "    # 计算测量概率\n",
    "    probabilities = np.abs(state)**2\n",
    "    # 生成随机数\n",
    "    rng = default_rng()\n",
    "    rand_num = rng.random()\n",
    "    # 执行测量\n",
    "    cumulative_prob = 0.0\n",
    "    for idx, prob in enumerate(probabilities):\n",
    "        cumulative_prob += prob\n",
    "        if rand_num < cumulative_prob:\n",
    "            # measured_state = np.zeros_like(state)\n",
    "            # measured_state[idx] = 1.0\n",
    "            measured_state = format(idx, f'0{num_qubits}b')\n",
    "            return measured_state\n",
    "            # return measured_state\n",
    "\n",
    "\n",
    "# 示例使用\n",
    "instr1 = Instruction(name=\"H\", qubits=[0])\n",
    "# instr2 = Instruction(name=\"CNOT\", qubits=[0, 1])\n",
    "# instr3 = Instruction(name=\"X\", qubits=[1])\n",
    "# instr4 = Instruction(name=\"H\", qubits=[2])\n",
    "# instr5 = Instruction(name=\"CNOT\", qubits=[1, 2])\n",
    "# instr6 = Instruction(name=\"CP\", qubits=[0, 2], parameter=np.pi/4)\n",
    "# instr7 = Instruction(name=\"SWAP\", qubits=[0, 2])\n",
    "\n",
    "circuit = Circuit(num_qubits=3)\n",
    "circuit.add_instruction(instr1)\n",
    "# circuit.add_instruction(instr2)\n",
    "# circuit.add_instruction(instr3)\n",
    "# circuit.add_instruction(instr4)\n",
    "# circuit.add_instruction(instr5)\n",
    "# circuit.add_instruction(instr6)\n",
    "# circuit.add_instruction(instr7)\n",
    "\n",
    "# 模拟电路\n",
    "final_state = circuit.simulate()\n",
    "counts = {}\n",
    "for i in range(1024):\n",
    "    m = measure_state(final_state,3)\n",
    "    counts[m] = counts.get(m,0) + 1\n",
    "\n",
    "print(\"Final quantum state:\", final_state)\n",
    "print(\"Result counts\", counts)"
   ]
  },
  {
   "cell_type": "code",
   "execution_count": 114,
   "metadata": {},
   "outputs": [
    {
     "name": "stdout",
     "output_type": "stream",
     "text": [
      "00\n",
      "0\n",
      "10\n",
      "1\n",
      "01\n",
      "2\n",
      "11\n",
      "3\n"
     ]
    }
   ],
   "source": [
    "import numpy as np\n",
    "\n",
    "# 创建一个10维量子态\n",
    "qubits = 4\n",
    "dimension = 2**qubits  # 10个量子比特\n",
    "quantum_state = np.zeros(dimension)\n",
    "quantum_state[0] = np.sqrt(1/2)  # 假设初始态为|000⟩ + |011⟩\n",
    "quantum_state[6] = np.sqrt(1/2)\n",
    "\n",
    "# 选择要测量的5个量子比特\n",
    "qubits_to_measure = [1,2]  \n",
    "qubits_not_to_measure = [i for i in range(qubits) if i not in qubits_to_measure]\n",
    "num_qubits_to_measure = len(qubits_to_measure)\n",
    "\n",
    "\n",
    "# 生成所有可能的n位二进制字符串\n",
    "all_binaries = np.array(['{:04b}'.format(i) for i in range(dimension)])\n",
    "\n",
    "\n",
    "\n",
    "# 生成测量矩阵\n",
    "measurement_matrix = np.zeros((2**num_qubits_to_measure, dimension))\n",
    "\n",
    "matrix = np.array([2**i for i in range(qubits)])\n",
    "for i in range(2**num_qubits_to_measure):\n",
    "    \n",
    "    basis_state = np.binary_repr(i, width=num_qubits_to_measure)[::-1]\n",
    "    # 找出第二位和第三位为0的字符串\n",
    "    for b in all_binaries:\n",
    "\n",
    "        if \n",
    "    filtered_binaries = np.array([b for b in all_binaries if b[0] == '1' and b[2] == '1'])\n",
    "    # basis_index = sum([int(b) * 2**j for j, b in enumerate(basis_state)])\n",
    "    print(basis_state)\n",
    "    # measurement_matrix[i, basis_index] = 1.0\n",
    "    print(i)\n",
    "    # basis_index = 0\n",
    "    # for j, qubit in enumerate(qubits_to_measure):\n",
    "    #     basis_index += int(basis_state[j]) * 2**qubit\n",
    "    #     # measurement_matrix[i, basis_index] = 1.0\n",
    "    #     # 其他全部为0\n",
    "    # for not_measure_i in range(2**(qubits-num_qubits_to_measure)):\n",
    "    #     not_measure_state = np.binary_repr(not_measure_i, width=qubits-num_qubits_to_measure)[::-1]\n",
    "    #     print(\"not_measure_state\",not_measure_state)\n",
    "    #     for j, qubit in enumerate(qubits_to_measure):\n",
    "    #     basis_index += int(basis_state[j]) * 2**qubit\n",
    "        \n",
    "    # print(\"basis_index\", basis_index)\n",
    "    # measurement_matrix[i, basis_index] = 1.0\n",
    "\n",
    "# 进行测量\n",
    "# measured_state = measurement_matrix @ quantum_state\n",
    "\n",
    "# 打印测量结果\n",
    "# print(\"Measured State:\")\n",
    "# print(measured_state)"
   ]
  },
  {
   "cell_type": "code",
   "execution_count": 133,
   "metadata": {},
   "outputs": [
    {
     "data": {
      "text/plain": [
       "array(['0001', '0010'], dtype='<U4')"
      ]
     },
     "execution_count": 133,
     "metadata": {},
     "output_type": "execute_result"
    }
   ],
   "source": []
  },
  {
   "cell_type": "code",
   "execution_count": 119,
   "metadata": {},
   "outputs": [],
   "source": [
    "# 生成所有可能的4位二进制字符串\n",
    "all_binaries = np.array(['{:04b}'.format(i)[::-1] for i in range(16)])\n",
    "\n"
   ]
  },
  {
   "cell_type": "code",
   "execution_count": 120,
   "metadata": {},
   "outputs": [
    {
     "data": {
      "text/plain": [
       "array(['0000', '1000', '0100', '1100', '0010', '1010', '0110', '1110',\n",
       "       '0001', '1001', '0101', '1101', '0011', '1011', '0111', '1111'],\n",
       "      dtype='<U4')"
      ]
     },
     "execution_count": 120,
     "metadata": {},
     "output_type": "execute_result"
    }
   ],
   "source": [
    "all_binaries"
   ]
  },
  {
   "cell_type": "code",
   "execution_count": 125,
   "metadata": {},
   "outputs": [],
   "source": [
    "# 找出第二位和第三位为0的字符串\n",
    "filtered_binaries = all_binaries[(all_binaries[:][1] == '0') & (all_binaries[:][2] == '0')]"
   ]
  },
  {
   "cell_type": "code",
   "execution_count": 126,
   "metadata": {},
   "outputs": [
    {
     "data": {
      "text/plain": [
       "array([], shape=(0, 16), dtype='<U4')"
      ]
     },
     "execution_count": 126,
     "metadata": {},
     "output_type": "execute_result"
    }
   ],
   "source": [
    "filtered_binaries"
   ]
  },
  {
   "cell_type": "code",
   "execution_count": 130,
   "metadata": {},
   "outputs": [
    {
     "name": "stdout",
     "output_type": "stream",
     "text": [
      "['1010' '1011' '1110' '1111']\n"
     ]
    }
   ],
   "source": [
    "import numpy as np\n",
    "\n",
    "# 生成所有可能的4位二进制字符串\n",
    "all_binaries = np.array(['{:04b}'.format(i) for i in range(16)])\n",
    "\n",
    "# 找出第二位和第三位为0的字符串\n",
    "filtered_binaries = np.array([b for b in all_binaries if b[0] == '1' and b[2] == '1'])\n",
    "\n",
    "print(filtered_binaries)"
   ]
  },
  {
   "cell_type": "code",
   "execution_count": 83,
   "metadata": {},
   "outputs": [
    {
     "data": {
      "text/plain": [
       "1"
      ]
     },
     "execution_count": 83,
     "metadata": {},
     "output_type": "execute_result"
    }
   ],
   "source": [
    "sum([int(b) * 2**(j) for j, b in enumerate(\"10\")])"
   ]
  },
  {
   "cell_type": "code",
   "execution_count": 93,
   "metadata": {},
   "outputs": [
    {
     "data": {
      "text/plain": [
       "'11'"
      ]
     },
     "execution_count": 93,
     "metadata": {},
     "output_type": "execute_result"
    }
   ],
   "source": [
    "np.binary_repr(-1, width=2)"
   ]
  }
 ],
 "metadata": {
  "kernelspec": {
   "display_name": "ibm-qiskit",
   "language": "python",
   "name": "python3"
  },
  "language_info": {
   "codemirror_mode": {
    "name": "ipython",
    "version": 3
   },
   "file_extension": ".py",
   "mimetype": "text/x-python",
   "name": "python",
   "nbconvert_exporter": "python",
   "pygments_lexer": "ipython3",
   "version": "3.8.16"
  }
 },
 "nbformat": 4,
 "nbformat_minor": 2
}
